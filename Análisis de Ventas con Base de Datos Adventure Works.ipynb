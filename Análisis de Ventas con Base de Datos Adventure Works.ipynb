{
 "cells": [
  {
   "cell_type": "code",
   "execution_count": 1,
   "metadata": {},
   "outputs": [],
   "source": [
    "import pyodbc\n",
    "import pandas as pd"
   ]
  },
  {
   "cell_type": "code",
   "execution_count": 3,
   "metadata": {},
   "outputs": [
    {
     "name": "stdout",
     "output_type": "stream",
     "text": [
      "OK! conexión exitosa\n"
     ]
    }
   ],
   "source": [
    "Server = 'DESKTOP-QUAN7C1'\n",
    "Database = 'AdventureWorks2019'\n",
    "User = 'sa'\n",
    "password = 'Australia2023*'\n",
    "try:\n",
    "    conexion = pyodbc.connect('DRIVER={SQL Server};SERVER=' +\n",
    "                              Server+';DATABASE='+Database+';UID='+User+';PWD=' + password)\n",
    "    print('OK! conexión exitosa')\n",
    "except Exception as e:\n",
    "    # Atrapar error\n",
    "    print(\"Ocurrió un error al conectar a SQL Server: \", e)"
   ]
  },
  {
   "cell_type": "code",
   "execution_count": null,
   "metadata": {},
   "outputs": [],
   "source": []
  }
 ],
 "metadata": {
  "kernelspec": {
   "display_name": "Python 3",
   "language": "python",
   "name": "python3"
  },
  "language_info": {
   "codemirror_mode": {
    "name": "ipython",
    "version": 3
   },
   "file_extension": ".py",
   "mimetype": "text/x-python",
   "name": "python",
   "nbconvert_exporter": "python",
   "pygments_lexer": "ipython3",
   "version": "3.11.5"
  },
  "orig_nbformat": 4
 },
 "nbformat": 4,
 "nbformat_minor": 2
}
